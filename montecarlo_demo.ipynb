{
 "cells": [
  {
   "cell_type": "markdown",
   "id": "fb7cd50a-0578-480a-991e-ba7f1e75e377",
   "metadata": {},
   "source": [
    "# Monte Carlo Simulator Scenarios\n",
    "\n",
    "### Import classes"
   ]
  },
  {
   "cell_type": "code",
   "execution_count": 1,
   "id": "0011ff56-1e33-4516-b610-610e985c4d1a",
   "metadata": {},
   "outputs": [],
   "source": [
    "import pandas as pd\n",
    "from montecarlo import (\n",
    "    Die,\n",
    "    Game,\n",
    "    Analyzer\n",
    ")"
   ]
  },
  {
   "cell_type": "markdown",
   "id": "8d87f3a4-a26d-4d15-aebd-ccdda5681f6c",
   "metadata": {},
   "source": [
    "### Scenario 1: A 2-headed coin"
   ]
  },
  {
   "cell_type": "code",
   "execution_count": 2,
   "id": "43f44eaa-8eaf-4555-a3a6-8dc9f6321ac8",
   "metadata": {},
   "outputs": [
    {
     "data": {
      "text/plain": [
       "<AxesSubplot:xlabel='game'>"
      ]
     },
     "execution_count": 2,
     "metadata": {},
     "output_type": "execute_result"
    },
    {
     "data": {
      "image/png": "[encoded data removed]",
      "text/plain": [
       "<Figure size 432x288 with 1 Axes>"
      ]
     },
     "metadata": {
      "needs_background": "light"
     },
     "output_type": "display_data"
    }
   ],
   "source": [
    "faces = ['H', 'T']\n",
    "# Fair coin uses the default weight of 1 for all faces\n",
    "fair_coin = Die(faces = faces)\n",
    "\n",
    "# Unfair coin has one face with a weight of 5\n",
    "unfair_coin = Die(faces = faces)\n",
    "unfair_coin.change_weight(face = 'H', weight = 5)\n",
    "\n",
    "total_rolls = 1000\n",
    "\n",
    "# A Game that uses 3 fair dice. Rolls 1000 times\n",
    "game_1 = Game(dice = [fair_coin] * 3)\n",
    "game_1.play(rolls = total_rolls)\n",
    "\n",
    "# A Game that uses 2 unfair dice and 1 fair dice. Rolls 1000 times\n",
    "game_2 = Game(dice = ([unfair_coin] * 2) + [fair_coin])\n",
    "game_2.play(rolls = total_rolls)\n",
    "\n",
    "# Use an Analyzer for each Game to compute the relative frequency of jackpots – getting either all Hs or all Ts\n",
    "# Relative frequency is computed as the number of jackpots over the total number of rolls\n",
    "analyzer_1 = Analyzer(game = game_1)\n",
    "game_1_jackpot = analyzer_1.jackpot()\n",
    "game_1_relative_frequency = game_1_jackpot / total_rolls\n",
    "\n",
    "analyzer_2 = Analyzer(game = game_2)\n",
    "game_2_jackpot = analyzer_2.jackpot()\n",
    "game_2_relative_frequency = game_2_jackpot / total_rolls\n",
    "\n",
    "# Compare the results in a bar chart\n",
    "results_df = pd.DataFrame({\n",
    "    'game': ['Game 1', 'Game 2'],\n",
    "    'relative_frequency': [game_1_relative_frequency, game_2_relative_frequency]\n",
    "})\n",
    "results_df.plot.bar(x = 'game', y = 'relative_frequency', rot = 0)"
   ]
  },
  {
   "cell_type": "markdown",
   "id": "13d5a114-bb97-4e7f-afed-bdfb6960d3e9",
   "metadata": {},
   "source": [
    "### Scenario 2: A 6-sided die"
   ]
  },
  {
   "cell_type": "code",
   "execution_count": 6,
   "id": "fa74e291-d766-462f-b9bc-fabac5cead7e",
   "metadata": {},
   "outputs": [
    {
     "data": {
      "text/plain": [
       "<AxesSubplot:xlabel='game'>"
      ]
     },
     "execution_count": 6,
     "metadata": {},
     "output_type": "execute_result"
    },
    {
     "data": {
      "image/png": "[encoded data removed]",
      "text/plain": [
       "<Figure size 432x288 with 1 Axes>"
      ]
     },
     "metadata": {
      "needs_background": "light"
     },
     "output_type": "display_data"
    }
   ],
   "source": [
    "faces = range(1, 7)\n",
    "fair_die = Die(faces = faces)\n",
    "\n",
    "unfair_die_type_1 = Die(faces = faces)\n",
    "unfair_die_type_1.change_weight(face = 6, weight = 5)\n",
    "\n",
    "unfair_die_type_2 = Die(faces = faces)\n",
    "unfair_die_type_2.change_weight(face = 1, weight = 5)\n",
    "\n",
    "total_rolls = 10000\n",
    "\n",
    "game_1 = Game(dice = [fair_die] * 5)\n",
    "game_1.play(rolls = total_rolls)\n",
    "\n",
    "game_2 = Game(dice = ([unfair_die_type_1] * 2) + [unfair_die_type_2] + ([fair_die] * 2))\n",
    "game_2.play(rolls = total_rolls)\n",
    "\n",
    "analyzer_1 = Analyzer(game = game_1)\n",
    "game_1_jackpot = analyzer_1.jackpot()\n",
    "game_1_relative_frequency = game_1_jackpot / total_rolls\n",
    "\n",
    "analyzer_2 = Analyzer(game = game_2)\n",
    "game_2_jackpot = analyzer_2.jackpot()\n",
    "game_2_relative_frequency = game_2_jackpot / total_rolls\n",
    "\n",
    "results_df = pd.DataFrame({\n",
    "    'game': ['Game 1', 'Game 2'],\n",
    "    'relative_frequency': [game_1_relative_frequency, game_2_relative_frequency]\n",
    "})\n",
    "results_df.plot.bar(x = 'game', y = 'relative_frequency', rot = 0)"
   ]
  },
  {
   "cell_type": "code",
   "execution_count": null,
   "id": "3d14a8e1-4436-48e9-866c-fb7e291ae613",
   "metadata": {},
   "outputs": [],
   "source": []
  }
 ],
 "metadata": {
  "kernelspec": {
   "display_name": "Python 3 (ipykernel)",
   "language": "python",
   "name": "python3"
  },
  "language_info": {
   "codemirror_mode": {
    "name": "ipython",
    "version": 3
   },
   "file_extension": ".py",
   "mimetype": "text/x-python",
   "name": "python",
   "nbconvert_exporter": "python",
   "pygments_lexer": "ipython3",
   "version": "3.9.12"
  }
 },
 "nbformat": 4,
 "nbformat_minor": 5
}
