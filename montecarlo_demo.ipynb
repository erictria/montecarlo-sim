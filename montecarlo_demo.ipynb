{
 "cells": [
  {
   "cell_type": "markdown",
   "id": "fb7cd50a-0578-480a-991e-ba7f1e75e377",
   "metadata": {},
   "source": [
    "# Monte Carlo Simulator Scenarios\n",
    "\n",
    "### Import classes"
   ]
  },
  {
   "cell_type": "code",
   "execution_count": 1,
   "id": "0011ff56-1e33-4516-b610-610e985c4d1a",
   "metadata": {},
   "outputs": [],
   "source": [
    "import pandas as pd\n",
    "from montecarlo.montecarlo import (\n",
    "    Die,\n",
    "    Game,\n",
    "    Analyzer\n",
    ")"
   ]
  },
  {
   "cell_type": "markdown",
   "id": "8d87f3a4-a26d-4d15-aebd-ccdda5681f6c",
   "metadata": {},
   "source": [
    "### Scenario 1: A 2-headed coin"
   ]
  },
  {
   "cell_type": "code",
   "execution_count": 3,
   "id": "43f44eaa-8eaf-4555-a3a6-8dc9f6321ac8",
   "metadata": {},
   "outputs": [
    {
     "name": "stdout",
     "output_type": "stream",
     "text": [
      "Relative Frequenct of Jackpots\n"
     ]
    },
    {
     "data": {
      "text/plain": [
       "<AxesSubplot:xlabel='game'>"
      ]
     },
     "execution_count": 3,
     "metadata": {},
     "output_type": "execute_result"
    },
    {
     "data": {
      "image/png": "[encoded data removed]",
      "text/plain": [
       "<Figure size 432x288 with 1 Axes>"
      ]
     },
     "metadata": {
      "needs_background": "light"
     },
     "output_type": "display_data"
    }
   ],
   "source": [
    "faces = ['H', 'T']\n",
    "# Fair coin uses the default weight of 1 for all faces\n",
    "fair_coin = Die(faces = faces)\n",
    "\n",
    "# Unfair coin has one face with a weight of 5\n",
    "unfair_coin = Die(faces = faces)\n",
    "unfair_coin.change_weight(face = 'H', weight = 5)\n",
    "\n",
    "total_rolls = 1000\n",
    "\n",
    "# A Game that uses 3 fair dice. Rolls 1000 times\n",
    "game_1 = Game(dice = [fair_coin] * 3)\n",
    "game_1.play(rolls = total_rolls)\n",
    "\n",
    "# A Game that uses 2 unfair dice and 1 fair dice. Rolls 1000 times\n",
    "game_2 = Game(dice = ([unfair_coin] * 2) + [fair_coin])\n",
    "game_2.play(rolls = total_rolls)\n",
    "\n",
    "# Use an Analyzer for each Game to compute the relative frequency of jackpots – getting either all Hs or all Ts\n",
    "# Relative frequency is computed as the number of jackpots over the total number of rolls\n",
    "analyzer_1 = Analyzer(game = game_1)\n",
    "game_1_jackpot = analyzer_1.jackpot()\n",
    "game_1_relative_frequency = game_1_jackpot / total_rolls\n",
    "\n",
    "analyzer_2 = Analyzer(game = game_2)\n",
    "game_2_jackpot = analyzer_2.jackpot()\n",
    "game_2_relative_frequency = game_2_jackpot / total_rolls\n",
    "\n",
    "# Compare the results in a bar chart\n",
    "print('Relative Frequenct of Jackpots')\n",
    "results_df = pd.DataFrame({\n",
    "    'game': ['Game 1', 'Game 2'],\n",
    "    'relative_frequency': [game_1_relative_frequency, game_2_relative_frequency]\n",
    "})\n",
    "results_df.plot.bar(x = 'game', y = 'relative_frequency', rot = 0)"
   ]
  },
  {
   "cell_type": "markdown",
   "id": "13d5a114-bb97-4e7f-afed-bdfb6960d3e9",
   "metadata": {},
   "source": [
    "### Scenario 2: A 6-sided die"
   ]
  },
  {
   "cell_type": "code",
   "execution_count": 5,
   "id": "fa74e291-d766-462f-b9bc-fabac5cead7e",
   "metadata": {},
   "outputs": [
    {
     "name": "stdout",
     "output_type": "stream",
     "text": [
      "Relative Frequenct of Jackpots\n"
     ]
    },
    {
     "data": {
      "text/plain": [
       "<AxesSubplot:xlabel='game'>"
      ]
     },
     "execution_count": 5,
     "metadata": {},
     "output_type": "execute_result"
    },
    {
     "data": {
      "image/png": "[encoded data removed]",
      "text/plain": [
       "<Figure size 432x288 with 1 Axes>"
      ]
     },
     "metadata": {
      "needs_background": "light"
     },
     "output_type": "display_data"
    }
   ],
   "source": [
    "faces = range(1, 7)\n",
    "# Fair die uses the default weight of 1 for all faces\n",
    "fair_die = Die(faces = faces)\n",
    "\n",
    "# Unfair die type 1 with face 6 having a weight of 5\n",
    "unfair_die_type_1 = Die(faces = faces)\n",
    "unfair_die_type_1.change_weight(face = 6, weight = 5)\n",
    "\n",
    "# Unfair die type 2 with face 1 having a weight of 5\n",
    "unfair_die_type_2 = Die(faces = faces)\n",
    "unfair_die_type_2.change_weight(face = 1, weight = 5)\n",
    "\n",
    "total_rolls = 10000\n",
    "\n",
    "# A Game that uses 5 fair dice. Rolls 10000 times\n",
    "game_1 = Game(dice = [fair_die] * 5)\n",
    "game_1.play(rolls = total_rolls)\n",
    "\n",
    "# A Game that uses 2 fair dice, 2 type 1 unfair dice, and 1 type 2 unfair die. Rolls 10000 times\n",
    "game_2 = Game(dice = ([unfair_die_type_1] * 2) + [unfair_die_type_2] + ([fair_die] * 2))\n",
    "game_2.play(rolls = total_rolls)\n",
    "\n",
    "# Use an Analyzer for each Game to compute the relative frequency of jackpots\n",
    "# Relative frequency is computed as the number of jackpots over the total number of rolls\n",
    "analyzer_1 = Analyzer(game = game_1)\n",
    "game_1_jackpot = analyzer_1.jackpot()\n",
    "game_1_relative_frequency = game_1_jackpot / total_rolls\n",
    "\n",
    "analyzer_2 = Analyzer(game = game_2)\n",
    "game_2_jackpot = analyzer_2.jackpot()\n",
    "game_2_relative_frequency = game_2_jackpot / total_rolls\n",
    "\n",
    "# Compare the results in a bar chart\n",
    "print('Relative Frequenct of Jackpots')\n",
    "results_df = pd.DataFrame({\n",
    "    'game': ['Game 1', 'Game 2'],\n",
    "    'relative_frequency': [game_1_relative_frequency, game_2_relative_frequency]\n",
    "})\n",
    "results_df.plot.bar(x = 'game', y = 'relative_frequency', rot = 0)"
   ]
  },
  {
   "cell_type": "code",
   "execution_count": 6,
   "id": "3e8cf20a",
   "metadata": {},
   "outputs": [
    {
     "name": "stdout",
     "output_type": "stream",
     "text": [
      "10 Most Frequent combinations: Game 1\n"
     ]
    },
    {
     "data": {
      "text/plain": [
       "<AxesSubplot:xlabel='face_1,face_2,face_3,face_4,face_5'>"
      ]
     },
     "execution_count": 6,
     "metadata": {},
     "output_type": "execute_result"
    },
    {
     "data": {
      "image/png": "[encoded data removed]",
      "text/plain": [
       "<Figure size 432x288 with 1 Axes>"
      ]
     },
     "metadata": {
      "needs_background": "light"
     },
     "output_type": "display_data"
    }
   ],
   "source": [
    "# Compute the top 10 most frequent combinations for each game\n",
    "# Plot each of these as bar charts\n",
    "print('10 Most Frequent combinations: Game 1')\n",
    "analyzer_1.combo()\n",
    "top_combos_1 = analyzer_1.combos.sort_values('count', ascending = False).head(10)\n",
    "top_combos_1.plot.bar(y = 'count')"
   ]
  },
  {
   "cell_type": "code",
   "execution_count": 7,
   "id": "483d95c5",
   "metadata": {},
   "outputs": [
    {
     "name": "stdout",
     "output_type": "stream",
     "text": [
      "10 Most Frequent combinations: Game 2\n"
     ]
    },
    {
     "data": {
      "text/plain": [
       "<AxesSubplot:xlabel='face_1,face_2,face_3,face_4,face_5'>"
      ]
     },
     "execution_count": 7,
     "metadata": {},
     "output_type": "execute_result"
    },
    {
     "data": {
      "image/png": "[encoded data removed]",
      "text/plain": [
       "<Figure size 432x288 with 1 Axes>"
      ]
     },
     "metadata": {
      "needs_background": "light"
     },
     "output_type": "display_data"
    }
   ],
   "source": [
    "print('10 Most Frequent combinations: Game 2')\n",
    "analyzer_2.combo()\n",
    "top_combos_2 = analyzer_2.combos.sort_values('count', ascending = False).head(10)\n",
    "top_combos_2.plot.bar(y = 'count')"
   ]
  },
  {
   "cell_type": "markdown",
   "id": "7db4c749-e29d-488a-a1b6-7263b73e8395",
   "metadata": {},
   "source": [
    "### Scenario 3: Letters of the Roman Alphabet"
   ]
  },
  {
   "cell_type": "code",
   "execution_count": 9,
   "id": "c01a52d7-8fa8-451f-9d25-0783066ccabf",
   "metadata": {},
   "outputs": [
    {
     "data": {
      "text/html": [
       "<div>\n",
       "<style scoped>\n",
       "    .dataframe tbody tr th:only-of-type {\n",
       "        vertical-align: middle;\n",
       "    }\n",
       "\n",
       "    .dataframe tbody tr th {\n",
       "        vertical-align: top;\n",
       "    }\n",
       "\n",
       "    .dataframe thead th {\n",
       "        text-align: right;\n",
       "    }\n",
       "</style>\n",
       "<table border=\"1\" class=\"dataframe\">\n",
       "  <thead>\n",
       "    <tr style=\"text-align: right;\">\n",
       "      <th>die_number</th>\n",
       "      <th>0</th>\n",
       "      <th>1</th>\n",
       "      <th>2</th>\n",
       "      <th>3</th>\n",
       "      <th>4</th>\n",
       "    </tr>\n",
       "    <tr>\n",
       "      <th>roll_number</th>\n",
       "      <th></th>\n",
       "      <th></th>\n",
       "      <th></th>\n",
       "      <th></th>\n",
       "      <th></th>\n",
       "    </tr>\n",
       "  </thead>\n",
       "  <tbody>\n",
       "    <tr>\n",
       "      <th>0</th>\n",
       "      <td>O</td>\n",
       "      <td>E</td>\n",
       "      <td>U</td>\n",
       "      <td>D</td>\n",
       "      <td>L</td>\n",
       "    </tr>\n",
       "    <tr>\n",
       "      <th>1</th>\n",
       "      <td>I</td>\n",
       "      <td>H</td>\n",
       "      <td>E</td>\n",
       "      <td>E</td>\n",
       "      <td>B</td>\n",
       "    </tr>\n",
       "    <tr>\n",
       "      <th>2</th>\n",
       "      <td>T</td>\n",
       "      <td>E</td>\n",
       "      <td>L</td>\n",
       "      <td>I</td>\n",
       "      <td>R</td>\n",
       "    </tr>\n",
       "    <tr>\n",
       "      <th>3</th>\n",
       "      <td>A</td>\n",
       "      <td>A</td>\n",
       "      <td>K</td>\n",
       "      <td>T</td>\n",
       "      <td>R</td>\n",
       "    </tr>\n",
       "    <tr>\n",
       "      <th>4</th>\n",
       "      <td>E</td>\n",
       "      <td>S</td>\n",
       "      <td>E</td>\n",
       "      <td>O</td>\n",
       "      <td>O</td>\n",
       "    </tr>\n",
       "    <tr>\n",
       "      <th>...</th>\n",
       "      <td>...</td>\n",
       "      <td>...</td>\n",
       "      <td>...</td>\n",
       "      <td>...</td>\n",
       "      <td>...</td>\n",
       "    </tr>\n",
       "    <tr>\n",
       "      <th>995</th>\n",
       "      <td>E</td>\n",
       "      <td>C</td>\n",
       "      <td>T</td>\n",
       "      <td>A</td>\n",
       "      <td>C</td>\n",
       "    </tr>\n",
       "    <tr>\n",
       "      <th>996</th>\n",
       "      <td>E</td>\n",
       "      <td>N</td>\n",
       "      <td>H</td>\n",
       "      <td>A</td>\n",
       "      <td>W</td>\n",
       "    </tr>\n",
       "    <tr>\n",
       "      <th>997</th>\n",
       "      <td>T</td>\n",
       "      <td>L</td>\n",
       "      <td>A</td>\n",
       "      <td>E</td>\n",
       "      <td>R</td>\n",
       "    </tr>\n",
       "    <tr>\n",
       "      <th>998</th>\n",
       "      <td>A</td>\n",
       "      <td>E</td>\n",
       "      <td>P</td>\n",
       "      <td>O</td>\n",
       "      <td>T</td>\n",
       "    </tr>\n",
       "    <tr>\n",
       "      <th>999</th>\n",
       "      <td>S</td>\n",
       "      <td>F</td>\n",
       "      <td>D</td>\n",
       "      <td>B</td>\n",
       "      <td>R</td>\n",
       "    </tr>\n",
       "  </tbody>\n",
       "</table>\n",
       "<p>1000 rows × 5 columns</p>\n",
       "</div>"
      ],
      "text/plain": [
       "die_number   0  1  2  3  4\n",
       "roll_number               \n",
       "0            O  E  U  D  L\n",
       "1            I  H  E  E  B\n",
       "2            T  E  L  I  R\n",
       "3            A  A  K  T  R\n",
       "4            E  S  E  O  O\n",
       "...         .. .. .. .. ..\n",
       "995          E  C  T  A  C\n",
       "996          E  N  H  A  W\n",
       "997          T  L  A  E  R\n",
       "998          A  E  P  O  T\n",
       "999          S  F  D  B  R\n",
       "\n",
       "[1000 rows x 5 columns]"
      ]
     },
     "execution_count": 9,
     "metadata": {},
     "output_type": "execute_result"
    }
   ],
   "source": [
    "# A die with all the letters of the alphabet using weights based on their frequency of usage\n",
    "alphabet_reference = pd.DataFrame(\n",
    "    [['A', 8.4966],\n",
    "    ['B', 2.0720],\n",
    "    ['C', 4.5388],\n",
    "    ['D', 3.3844],\n",
    "    ['E', 11.1607],\n",
    "    ['F', 1.8121],\n",
    "    ['G', 2.4705],\n",
    "    ['H', 3.0034],\n",
    "    ['I', 7.5448],\n",
    "    ['J', 0.1965],\n",
    "    ['K', 1.1016],\n",
    "    ['L', 5.4893],\n",
    "    ['M', 3.0129],\n",
    "    ['N', 6.6544],\n",
    "    ['O', 7.1635],\n",
    "    ['P', 3.1671],\n",
    "    ['Q', 0.1962],\n",
    "    ['R', 7.5809],\n",
    "    ['S', 5.7351],\n",
    "    ['T', 6.9509],\n",
    "    ['U', 3.6308],\n",
    "    ['V', 1.0074],\n",
    "    ['W', 1.2899],\n",
    "    ['X', 0.2902],\n",
    "    ['Y', 1.7779],\n",
    "    ['Z', 0.2722]], \n",
    "    columns = ['face', 'weight']\n",
    ")\n",
    "alphabet_die = Die(faces = alphabet_reference.face.values.tolist())\n",
    "for a in alphabet_reference.to_dict('records'):\n",
    "    alphabet_die.change_weight(face = a['face'], weight = a['weight'])\n",
    "\n",
    "# A Game with 5 of these alphabet dice. Rolls 1000 times\n",
    "total_rolls = 1000\n",
    "game = Game(dice = [alphabet_die] * 5)\n",
    "game.play(rolls = total_rolls)\n",
    "game_results = game.show_play_results()\n",
    "game_results"
   ]
  },
  {
   "cell_type": "code",
   "execution_count": 11,
   "id": "4c0c006a-8461-4482-9744-6f643c2f1833",
   "metadata": {},
   "outputs": [
    {
     "name": "stdout",
     "output_type": "stream",
     "text": [
      "Relative Frequency: 0.02\n"
     ]
    }
   ],
   "source": [
    "# Based on an eye test, count how many combos look like actual words\n",
    "# Some results resembled words, meaning they are 1 or 2 letters off from being actual words\n",
    "actual_words = 5\n",
    "resembled_words = 15\n",
    "\n",
    "relative_frequency = (actual_words + resembled_words) / total_rolls\n",
    "print('Relative Frequency:', relative_frequency)"
   ]
  },
  {
   "cell_type": "markdown",
   "id": "ae503237-546d-4741-bd7b-3875ea5c7e9b",
   "metadata": {},
   "source": [
    "To get a better result of relative frequency, \n",
    "the [english-words](https://pypi.org/project/english-words/) library was used to detect \n",
    "if the words generated are in English:"
   ]
  },
  {
   "cell_type": "code",
   "execution_count": 14,
   "id": "06136598-8c2e-4ad4-abcd-74f7728fd2db",
   "metadata": {},
   "outputs": [
    {
     "name": "stdout",
     "output_type": "stream",
     "text": [
      "             0  1  2  3  4   word  is_english\n",
      "roll_number                                  \n",
      "62           T  E  R  S  E  TERSE           1\n",
      "115          R  O  D  E  O  RODEO           1\n",
      "373          S  T  O  R  E  STORE           1\n",
      "Actual Relative Frequency: 0.003\n"
     ]
    }
   ],
   "source": [
    "from english_words import english_words_set\n",
    "\n",
    "game_results['word'] = game_results[[0, 1, 2, 3, 4]].agg(''.join, axis = 1)\n",
    "game_results['is_english'] = game_results['word']\\\n",
    "    .apply(lambda x: 1 if x.lower() in english_words_set else 0)\n",
    "print(game_results[game_results['is_english'] == 1])\n",
    "\n",
    "actual_words = game_results['is_english'].sum().item()\n",
    "actual_relative_frequency = actual_words / 1000\n",
    "print('Actual Relative Frequency:', actual_relative_frequency)"
   ]
  },
  {
   "cell_type": "code",
   "execution_count": null,
   "id": "6290c2a3-6675-43a9-9e49-d643a825bd06",
   "metadata": {},
   "outputs": [],
   "source": []
  }
 ],
 "metadata": {
  "interpreter": {
   "hash": "b0fa6594d8f4cbf19f97940f81e996739fb7646882a419484c72d19e05852a7e"
  },
  "kernelspec": {
   "display_name": "Python 3 (ipykernel)",
   "language": "python",
   "name": "python3"
  },
  "language_info": {
   "codemirror_mode": {
    "name": "ipython",
    "version": 3
   },
   "file_extension": ".py",
   "mimetype": "text/x-python",
   "name": "python",
   "nbconvert_exporter": "python",
   "pygments_lexer": "ipython3",
   "version": "3.9.12"
  }
 },
 "nbformat": 4,
 "nbformat_minor": 5
}
